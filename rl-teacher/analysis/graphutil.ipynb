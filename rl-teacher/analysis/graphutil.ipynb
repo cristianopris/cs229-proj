{
 "cells": [
  {
   "cell_type": "code",
   "execution_count": 8,
   "metadata": {},
   "outputs": [
    {
     "name": "stdout",
     "output_type": "stream",
     "text": [
      "reward_predictor/beta1_power (DT_FLOAT) []\n",
      "reward_predictor/beta2_power (DT_FLOAT) []\n",
      "reward_predictor/dense_1/bias (DT_FLOAT) [64]\n",
      "reward_predictor/dense_1/kernel (DT_FLOAT) [20,64]\n",
      "reward_predictor/dense_2/bias (DT_FLOAT) [64]\n",
      "reward_predictor/dense_2/kernel (DT_FLOAT) [64,64]\n",
      "reward_predictor/dense_3/bias (DT_FLOAT) [1]\n",
      "reward_predictor/dense_3/kernel (DT_FLOAT) [64,1]\n",
      "reward_predictor/global_step (DT_INT32) []\n",
      "reward_predictor/reward_predictor/dense_1/bias/Adam (DT_FLOAT) [64]\n",
      "reward_predictor/reward_predictor/dense_1/bias/Adam_1 (DT_FLOAT) [64]\n",
      "reward_predictor/reward_predictor/dense_1/kernel/Adam (DT_FLOAT) [20,64]\n",
      "reward_predictor/reward_predictor/dense_1/kernel/Adam_1 (DT_FLOAT) [20,64]\n",
      "reward_predictor/reward_predictor/dense_2/bias/Adam (DT_FLOAT) [64]\n",
      "reward_predictor/reward_predictor/dense_2/bias/Adam_1 (DT_FLOAT) [64]\n",
      "reward_predictor/reward_predictor/dense_2/kernel/Adam (DT_FLOAT) [64,64]\n",
      "reward_predictor/reward_predictor/dense_2/kernel/Adam_1 (DT_FLOAT) [64,64]\n",
      "reward_predictor/reward_predictor/dense_3/bias/Adam (DT_FLOAT) [1]\n",
      "reward_predictor/reward_predictor/dense_3/bias/Adam_1 (DT_FLOAT) [1]\n",
      "reward_predictor/reward_predictor/dense_3/kernel/Adam (DT_FLOAT) [64,1]\n",
      "reward_predictor/reward_predictor/dense_3/kernel/Adam_1 (DT_FLOAT) [64,1]\n",
      "\n"
     ]
    }
   ],
   "source": [
    "import tensorflow as tf\n",
    "from tensorflow.python.platform import gfile\n",
    "from tensorflow.python.tools.inspect_checkpoint import print_tensors_in_checkpoint_file\n",
    "    \n",
    "file_name ='/Users/cristian/dev/cs229-proj/bin/3dball2paddles_model/2paddles_synth_2017-12-03-2308/25521/r_predictor/r_predictor_labels_64.checkpoint'\n",
    "print_tensors_in_checkpoint_file(file_name=file_name, tensor_name='', all_tensors=False)"
   ]
  },
  {
   "cell_type": "code",
   "execution_count": null,
   "metadata": {},
   "outputs": [],
   "source": []
  }
 ],
 "metadata": {
  "kernelspec": {
   "display_name": "Python 3",
   "language": "python",
   "name": "python3"
  },
  "language_info": {
   "codemirror_mode": {
    "name": "ipython",
    "version": 3
   },
   "file_extension": ".py",
   "mimetype": "text/x-python",
   "name": "python",
   "nbconvert_exporter": "python",
   "pygments_lexer": "ipython3",
   "version": "3.6.3"
  }
 },
 "nbformat": 4,
 "nbformat_minor": 2
}
